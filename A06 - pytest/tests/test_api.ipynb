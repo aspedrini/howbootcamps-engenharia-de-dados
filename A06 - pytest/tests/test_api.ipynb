{
 "cells": [
  {
   "cell_type": "code",
   "execution_count": 14,
   "metadata": {},
   "outputs": [],
   "source": [
    "import datetime\n",
    "import sys\n",
    "sys.path.insert(0, 'C:\\\\Users\\\\pedri\\\\Desktop\\\\Stuff\\\\Cursos\\\\Bootcamp Engenharia Dados\\\\A006')\n",
    "import apis"
   ]
  },
  {
   "cell_type": "code",
   "execution_count": 18,
   "metadata": {},
   "outputs": [],
   "source": [
    "def test_get_endpoint(): #testar o metodo _get_endpoint() do apis.py\n",
    "    #pytest precisa do test_ antes\n",
    "    date = datetime.date(2021,6,21)\n",
    "    api = DaySummaryApi(coin = 'BTC')\n",
    "    \n",
    "    # nomenclatura 'actual' = padrao para qual o valor vamos obter dali?\n",
    "    actual = api._get_endpoint(date = date)\n",
    "\n",
    "    # expected = valor esperado - na nossa classe vem o link formatado\n",
    "    expected = \"https://www.mercadobitcoin.net/api/BTC/DaySummary/2021/6/21\"\n",
    "\n",
    "    # validação dos dados (via assert)\n",
    "    assert actual == expected\n",
    "    \n",
    "\n"
   ]
  }
 ],
 "metadata": {
  "kernelspec": {
   "display_name": "A006-Kernel",
   "language": "python",
   "name": ".venv"
  },
  "language_info": {
   "codemirror_mode": {
    "name": "ipython",
    "version": 3
   },
   "file_extension": ".py",
   "mimetype": "text/x-python",
   "name": "python",
   "nbconvert_exporter": "python",
   "pygments_lexer": "ipython3",
   "version": "3.10.10"
  },
  "orig_nbformat": 4,
  "vscode": {
   "interpreter": {
    "hash": "946f3902afba8791e129f079cfc722baaaac8db525ef38315c0fd9e678d77d4b"
   }
  }
 },
 "nbformat": 4,
 "nbformat_minor": 2
}
